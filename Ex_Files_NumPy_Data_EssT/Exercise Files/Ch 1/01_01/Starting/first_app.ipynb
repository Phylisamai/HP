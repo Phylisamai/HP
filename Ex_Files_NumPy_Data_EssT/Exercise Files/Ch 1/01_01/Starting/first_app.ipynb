{
 "cells": [
  {
   "cell_type": "code",
   "execution_count": null,
   "source": [
    "import streamlit as st\r\n",
    "import pandas as pd\r\n",
    "import numpy as np"
   ],
   "outputs": [],
   "metadata": {}
  },
  {
   "cell_type": "code",
   "execution_count": null,
   "source": [
    "st.title('My first app')"
   ],
   "outputs": [],
   "metadata": {}
  },
  {
   "cell_type": "code",
   "execution_count": null,
   "source": [
    "st.write(\"Here's our first attempt at using data to create a table:\")\r\n",
    "st.write(pd.DataFrame({\r\n",
    "    'index': [1, 2, 3, 4],\r\n",
    "    'figure': [10, 20, 30, 40]\r\n",
    "}))"
   ],
   "outputs": [],
   "metadata": {}
  },
  {
   "cell_type": "code",
   "execution_count": null,
   "source": [
    "df = pd.DataFrame({\r\n",
    "  'index': [1, 2, 3, 4],\r\n",
    "  'figure': [10, 20, 30, 40]\r\n",
    "})\r\n",
    "\r\n",
    "df"
   ],
   "outputs": [],
   "metadata": {}
  },
  {
   "cell_type": "markdown",
   "source": [
    "### Draw a line chart"
   ],
   "metadata": {}
  },
  {
   "cell_type": "code",
   "execution_count": 24,
   "source": [
    "chart_data = pd.DataFrame(\r\n",
    "     np.random.randn(20, 3),\r\n",
    "     columns=['a', 'b', 'c'])\r\n",
    "\r\n",
    "st.line_chart(chart_data)"
   ],
   "outputs": [
    {
     "output_type": "execute_result",
     "data": {
      "text/plain": [
       "DeltaGenerator(_root_container=0, _provided_cursor=None, _parent=None, _block_type=None, _form_data=None)"
      ]
     },
     "metadata": {},
     "execution_count": 24
    }
   ],
   "metadata": {}
  },
  {
   "cell_type": "markdown",
   "source": [
    "### Plot a map"
   ],
   "metadata": {}
  },
  {
   "cell_type": "code",
   "execution_count": 22,
   "source": [
    "map_data = pd.DataFrame(\r\n",
    "    np.random.randn(1000, 2) / [50, 50] + [37.76, -122.4],\r\n",
    "    columns=['lat', 'lon'])\r\n",
    "\r\n",
    "st.map(map_data)"
   ],
   "outputs": [
    {
     "output_type": "execute_result",
     "data": {
      "text/plain": [
       "DeltaGenerator(_root_container=0, _provided_cursor=None, _parent=None, _block_type=None, _form_data=None)"
      ]
     },
     "metadata": {},
     "execution_count": 22
    }
   ],
   "metadata": {}
  },
  {
   "cell_type": "markdown",
   "source": [
    "## Add interactivity with widgets"
   ],
   "metadata": {}
  },
  {
   "cell_type": "markdown",
   "source": [
    "### Use checkboxes to show/hide data"
   ],
   "metadata": {}
  },
  {
   "cell_type": "code",
   "execution_count": 27,
   "source": [
    "if st.checkbox('Show dataframe'):\r\n",
    "    chart_data = pd.DataFrame(\r\n",
    "       np.random.randn(20, 3),\r\n",
    "       columns=['a', 'b', 'c'])\r\n",
    "\r\n",
    "    chart_data"
   ],
   "outputs": [],
   "metadata": {}
  },
  {
   "cell_type": "markdown",
   "source": [
    "### Use selectbox for options"
   ],
   "metadata": {}
  },
  {
   "cell_type": "code",
   "execution_count": 29,
   "source": [
    "if st.checkbox('Show dataframe'):\r\n",
    "    chart_data = pd.DataFrame(\r\n",
    "       np.random.randn(20, 3),\r\n",
    "       columns=['a', 'b', 'c'])\r\n",
    "\r\n",
    "    chart_data"
   ],
   "outputs": [],
   "metadata": {}
  },
  {
   "cell_type": "markdown",
   "source": [
    "## Lay out your app"
   ],
   "metadata": {}
  },
  {
   "cell_type": "code",
   "execution_count": 32,
   "source": [
    "option = st.sidebar.selectbox(\r\n",
    "    'Which number do you like best? ',\r\n",
    "     df['index'])\r\n",
    "\r\n",
    "'You selected:', option"
   ],
   "outputs": [
    {
     "output_type": "execute_result",
     "data": {
      "text/plain": [
       "('You selected:', 1)"
      ]
     },
     "metadata": {},
     "execution_count": 32
    }
   ],
   "metadata": {}
  },
  {
   "cell_type": "code",
   "execution_count": 33,
   "source": [
    "left_column, right_column = st.columns(2)\r\n",
    "pressed = left_column.button('Press me?')\r\n",
    "if pressed:\r\n",
    "  right_column.write(\"Woohoo!\")\r\n",
    "\r\n",
    "expander = st.expander(\"FAQ\")\r\n",
    "expander.write(\"Here you could put in some really, really long explanations...\")"
   ],
   "outputs": [],
   "metadata": {}
  },
  {
   "cell_type": "code",
   "execution_count": 34,
   "source": [
    "import time"
   ],
   "outputs": [],
   "metadata": {}
  },
  {
   "cell_type": "code",
   "execution_count": 35,
   "source": [
    "'Starting a long computation...'\r\n",
    "\r\n",
    "# Add a placeholder\r\n",
    "latest_iteration = st.empty()\r\n",
    "bar = st.progress(0)\r\n",
    "\r\n",
    "for i in range(100):\r\n",
    "  # Update the progress bar with each iteration.\r\n",
    "  latest_iteration.text(f'Iteration {i+1}')\r\n",
    "  bar.progress(i + 1)\r\n",
    "  time.sleep(0.1)\r\n",
    "\r\n",
    "'...and now we\\'re done!'"
   ],
   "outputs": [
    {
     "output_type": "execute_result",
     "data": {
      "text/plain": [
       "\"...and now we're done!\""
      ]
     },
     "metadata": {},
     "execution_count": 35
    }
   ],
   "metadata": {}
  }
 ],
 "metadata": {
  "orig_nbformat": 4,
  "language_info": {
   "name": "python",
   "version": "3.8.8",
   "mimetype": "text/x-python",
   "codemirror_mode": {
    "name": "ipython",
    "version": 3
   },
   "pygments_lexer": "ipython3",
   "nbconvert_exporter": "python",
   "file_extension": ".py"
  },
  "kernelspec": {
   "name": "python3",
   "display_name": "Python 3.8.8 64-bit ('base': conda)"
  },
  "interpreter": {
   "hash": "1e915f0a29dc84041eaeb02b7b1a21c440e37a87b61d44d5e84a515737dc82bc"
  }
 },
 "nbformat": 4,
 "nbformat_minor": 2
}